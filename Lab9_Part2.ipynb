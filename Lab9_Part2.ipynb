{
 "cells": [
  {
   "cell_type": "markdown",
   "id": "a7f7f8f4-d37f-4886-ad2f-9a1d9661bd1b",
   "metadata": {},
   "source": [
    "# Analyzing Data and Interpreting Images with OpenAI's o1 Reasoning Model vs. GPT"
   ]
  },
  {
   "cell_type": "markdown",
   "id": "271a830d-95fd-4bb0-8156-f4ce5ee41f95",
   "metadata": {},
   "source": [
    "## Introduction\n",
    "OpenAI's o1 reasoning model is designed for complex problem-solving, data analysis, and image interpretation by simulating a multi-step thought process before generating responses. Unlike traditional GPT models, which produce output in a single pass, reasoning models use internal **reasoning tokens** to explore multiple approaches before finalizing an answer.\n",
    "<p align=\"center\">\n",
    "    <img src=\"https://cdn.openai.com/API/images/guides/reasoning_tokens.png\" alt=\"Reasoning Tokens\" width=\"600\">\n",
    "</p>  \n",
    "\n",
    "*Source: [OpenAI Reasoning Models Guide](https://platform.openai.com/docs/guides/reasoning)*\n",
    "\n",
    "**Key Differences: o1 Reasoning Model vs. GPT**\n",
    "- Multi-step reasoning: o1 evaluates different solutions before selecting the best response.\n",
    "- Deeper analytical capabilities: Optimized for complex data interpretation tasks.\n",
    "- Context-aware image analysis: Provides more structured and insightful image descriptions.\n",
    "- Reasoning Effort Control: Users can adjust the depth of reasoning (`low`, `medium`, `high`).\n",
    "\n",
    "\n",
    "For more details, refer to the [OpenAI Reasoning Models Guide](https://platform.openai.com/docs/guides/reasoning).\n"
   ]
  },
  {
   "cell_type": "markdown",
   "id": "aaa19529-a6a5-486b-802e-ddfb39fb85f1",
   "metadata": {},
   "source": [
    "## Purchase and Store API Key\n",
    "\n",
    "You need to **purchase** your [OpenAI](https://openai.com/) API key and store it securely, such as in **AWS Secrets Manager**.\n",
    "\n",
    "- **Key Name:** `api_key`  \n",
    "- **Key Value:** `<your OpenAI API key>`  \n",
    "- **Secret Name:** `openai`  "
   ]
  },
  {
   "cell_type": "markdown",
   "id": "5a126d9e-1487-4905-8cc0-5d55d1a06594",
   "metadata": {},
   "source": [
    "## Install Python Libraries\n",
    "\n",
    "- **openai**: Used to call `o1` and `GPT` models for data analysis and image interpretation."
   ]
  },
  {
   "cell_type": "code",
   "execution_count": 1,
   "id": "7f05dcb1-dab0-4a06-bf2b-c695a8d19d6d",
   "metadata": {},
   "outputs": [
    {
     "name": "stdout",
     "output_type": "stream",
     "text": [
      "Note: you may need to restart the kernel to use updated packages.\n"
     ]
    }
   ],
   "source": [
    "pip install openai -q"
   ]
  },
  {
   "cell_type": "markdown",
   "id": "ca255da8-7177-49e6-bff7-27501305b4f6",
   "metadata": {},
   "source": [
    "## Import Required Libraries\n",
    "\n",
    "The following libraries are used in this notebook:\n",
    "\n",
    "- **boto3**: AWS SDK for Python, used to interact with AWS services.\n",
    "- **json**: Standard Python library for handling JSON data.\n",
    "- **IPython.display**: Provides tools to display images, Markdown content, and other rich media in Jupyter Notebook.\n",
    "- **openai**: Used to call `o1` and `GPT` models for data analysis and image interpretation.\n",
    "- **pandas**: A powerful library for data manipulation and analysis.\n",
    "- **pprint**: Pretty prints data structures for better readability."
   ]
  },
  {
   "cell_type": "code",
   "execution_count": 2,
   "id": "5db0d630-749f-484e-8d01-79ec39e0e56e",
   "metadata": {
    "scrolled": true
   },
   "outputs": [],
   "source": [
    "import boto3\n",
    "import json\n",
    "from IPython.display import display, Image, Markdown\n",
    "from openai import OpenAI\n",
    "import pandas as pd\n",
    "from pprint import pprint"
   ]
  },
  {
   "cell_type": "markdown",
   "id": "ddd547f9-8c03-4673-a194-e71e01b38a3d",
   "metadata": {},
   "source": [
    "## Retrieve API Keys Securely from AWS Secrets Manager\n",
    "\n",
    "The following function, `get_secret()`, retrieves a secret from **AWS Secrets Manager**. This is a secure way to store and access sensitive credentials, such as API keys, without hardcoding them into the script"
   ]
  },
  {
   "cell_type": "code",
   "execution_count": 3,
   "id": "7fd3f543-0716-483c-88ce-b41f5fb418cb",
   "metadata": {},
   "outputs": [],
   "source": [
    "def get_secret(secret_name):\n",
    "    region_name = \"us-east-1\"\n",
    "\n",
    "    # Create a Secrets Manager client\n",
    "    session = boto3.session.Session()\n",
    "    client = session.client(\n",
    "        service_name='secretsmanager',\n",
    "        region_name=region_name\n",
    "    )\n",
    "\n",
    "    try:\n",
    "        get_secret_value_response = client.get_secret_value(\n",
    "            SecretId=secret_name\n",
    "        )\n",
    "    except ClientError as e:\n",
    "        raise e\n",
    "\n",
    "    secret = get_secret_value_response['SecretString']\n",
    "    \n",
    "    return json.loads(secret)"
   ]
  },
  {
   "cell_type": "markdown",
   "id": "e5711939-503e-44f6-bb28-0671c1131e26",
   "metadata": {},
   "source": [
    "## Initialize OpenAI Client\n",
    "\n",
    "The following code initializes the OpenAI client using a securely stored API key retrieved from AWS Secrets Manager."
   ]
  },
  {
   "cell_type": "code",
   "execution_count": 4,
   "id": "921be4e1-921f-4c84-b68d-fc72b435cc3a",
   "metadata": {
    "scrolled": true
   },
   "outputs": [],
   "source": [
    "client = OpenAI(api_key= get_secret('openai')['api_key'])"
   ]
  },
  {
   "cell_type": "markdown",
   "id": "860098d7-cfcc-4791-9b42-c526f8ff620a",
   "metadata": {},
   "source": [
    "## Load and Analyze the Diamonds Dataset\n",
    "\n",
    "This notebook uses the **diamonds dataset ([diamonds.csv](https://github.com/lbsocial/data-analysis-with-generative-ai/blob/main/diamonds.csv))**, which contains detailed attributes of diamonds, including weight, color, clarity, and price.\n",
    "\n",
    "One interesting pattern in the dataset is that **diamonds with \"IF\" (Internally Flawless) clarity tend to have the lowest average price** compared to other clarity grades. This observation is counterintuitive, as one might expect the highest-clarity diamonds to be the most expensive."
   ]
  },
  {
   "cell_type": "code",
   "execution_count": 6,
   "id": "ebef8c09-e485-4bea-b86b-275cce615b63",
   "metadata": {},
   "outputs": [
    {
     "data": {
      "text/html": [
       "<div>\n",
       "<style scoped>\n",
       "    .dataframe tbody tr th:only-of-type {\n",
       "        vertical-align: middle;\n",
       "    }\n",
       "\n",
       "    .dataframe tbody tr th {\n",
       "        vertical-align: top;\n",
       "    }\n",
       "\n",
       "    .dataframe thead th {\n",
       "        text-align: right;\n",
       "    }\n",
       "</style>\n",
       "<table border=\"1\" class=\"dataframe\">\n",
       "  <thead>\n",
       "    <tr style=\"text-align: right;\">\n",
       "      <th></th>\n",
       "      <th>Country</th>\n",
       "      <th>Year</th>\n",
       "      <th>Count</th>\n",
       "      <th>Accepted</th>\n",
       "    </tr>\n",
       "  </thead>\n",
       "  <tbody>\n",
       "    <tr>\n",
       "      <th>0</th>\n",
       "      <td>France</td>\n",
       "      <td>2008</td>\n",
       "      <td>31760</td>\n",
       "      <td>5150</td>\n",
       "    </tr>\n",
       "    <tr>\n",
       "      <th>1</th>\n",
       "      <td>France</td>\n",
       "      <td>2009</td>\n",
       "      <td>35295</td>\n",
       "      <td>5055</td>\n",
       "    </tr>\n",
       "    <tr>\n",
       "      <th>2</th>\n",
       "      <td>France</td>\n",
       "      <td>2010</td>\n",
       "      <td>37610</td>\n",
       "      <td>5100</td>\n",
       "    </tr>\n",
       "    <tr>\n",
       "      <th>3</th>\n",
       "      <td>France</td>\n",
       "      <td>2011</td>\n",
       "      <td>42215</td>\n",
       "      <td>4620</td>\n",
       "    </tr>\n",
       "    <tr>\n",
       "      <th>4</th>\n",
       "      <td>France</td>\n",
       "      <td>2012</td>\n",
       "      <td>59805</td>\n",
       "      <td>8640</td>\n",
       "    </tr>\n",
       "  </tbody>\n",
       "</table>\n",
       "</div>"
      ],
      "text/plain": [
       "  Country  Year  Count  Accepted\n",
       "0  France  2008  31760      5150\n",
       "1  France  2009  35295      5055\n",
       "2  France  2010  37610      5100\n",
       "3  France  2011  42215      4620\n",
       "4  France  2012  59805      8640"
      ]
     },
     "execution_count": 6,
     "metadata": {},
     "output_type": "execute_result"
    }
   ],
   "source": [
    "df = pd.read_csv('full_asylum_apps_copy.csv')\n",
    "data_json = df.to_json(orient=\"records\")\n",
    "df.head()"
   ]
  },
  {
   "cell_type": "markdown",
   "id": "44df8274-f532-4103-9b8a-a882aa23eb86",
   "metadata": {},
   "source": [
    "## Generate Data Analysis Prompt for OpenAI Model\n",
    "\n",
    "To investigate why diamonds with **IF (Internally Flawless) clarity** have the **lowest average price**, we generate a structured prompt for the OpenAI model. The model will analyze the dataset and generate insights, including **Python code for visualizations**.\n"
   ]
  },
  {
   "cell_type": "code",
   "execution_count": 7,
   "id": "09d7ac96-aef2-425c-91ae-6b004a3ccce3",
   "metadata": {},
   "outputs": [],
   "source": [
    "data_prompt = f\"Analyze the provided data and determine how France and Germany fluctuate in accepting asylum applicants. Provide Python-generated charts to support your conclusion. Data: {data_json}\"\n",
    "# print(prompt)"
   ]
  },
  {
   "cell_type": "markdown",
   "id": "0e269bba-2c1a-47e9-9662-3542873fa8ce",
   "metadata": {},
   "source": [
    "## Define a Function to Get Assistance from OpenAI GPT-4o\n",
    "\n",
    "The following function, `openai_gpt_help()`, sends a prompt to OpenAI's **GPT-4o model** and returns a response. It also prints the number of tokens used in the request."
   ]
  },
  {
   "cell_type": "code",
   "execution_count": 8,
   "id": "8a02a837-a5c0-409e-92ce-7ae93e58c834",
   "metadata": {},
   "outputs": [],
   "source": [
    "def openai_gpt_help(prompt):\n",
    "    messages = [{\"role\": \"user\", \"content\": prompt}]\n",
    "    response = client.chat.completions.create(\n",
    "        model='gpt-4o',\n",
    "        messages=messages,\n",
    "        temperature = 0\n",
    "    )\n",
    "    token_usage = response.usage\n",
    "    \n",
    "    pprint(f\"Tokens used: {token_usage}\")\n",
    "\n",
    "    return response.choices[0].message.content"
   ]
  },
  {
   "cell_type": "code",
   "execution_count": 14,
   "id": "df292b10-8857-4902-b2e4-8dab5602d204",
   "metadata": {},
   "outputs": [
    {
     "name": "stdout",
     "output_type": "stream",
     "text": [
      "('Tokens used: CompletionUsage(completion_tokens=1502, prompt_tokens=681, '\n",
      " 'total_tokens=2183, '\n",
      " 'completion_tokens_details=CompletionTokensDetails(accepted_prediction_tokens=0, '\n",
      " 'audio_tokens=0, reasoning_tokens=0, rejected_prediction_tokens=0), '\n",
      " 'prompt_tokens_details=PromptTokensDetails(audio_tokens=0, cached_tokens=0))')\n"
     ]
    }
   ],
   "source": [
    "gpt_result = openai_gpt_help(prompt=data_prompt)"
   ]
  },
  {
   "cell_type": "code",
   "execution_count": 15,
   "id": "1360e35d-3dda-4447-8b5e-f58d16ad91d3",
   "metadata": {},
   "outputs": [
    {
     "data": {
      "text/markdown": [
       "To analyze the fluctuations in asylum applications and acceptance rates for France and Germany, we can visualize the data using Python. We'll use libraries such as `pandas` for data manipulation and `matplotlib` for plotting the charts. Let's create line charts to show the trends over the years for both countries.\n",
       "\n",
       "```python\n",
       "import pandas as pd\n",
       "import matplotlib.pyplot as plt\n",
       "\n",
       "# Data\n",
       "data = [\n",
       "    {\"Country\": \"France\", \"Year\": 2008, \"Count\": 31760, \"Accepted\": 5150},\n",
       "    {\"Country\": \"France\", \"Year\": 2009, \"Count\": 35295, \"Accepted\": 5055},\n",
       "    {\"Country\": \"France\", \"Year\": 2010, \"Count\": 37610, \"Accepted\": 5100},\n",
       "    {\"Country\": \"France\", \"Year\": 2011, \"Count\": 42215, \"Accepted\": 4620},\n",
       "    {\"Country\": \"France\", \"Year\": 2012, \"Count\": 59805, \"Accepted\": 8640},\n",
       "    {\"Country\": \"France\", \"Year\": 2013, \"Count\": 61715, \"Accepted\": 10705},\n",
       "    {\"Country\": \"France\", \"Year\": 2014, \"Count\": 68500, \"Accepted\": 14810},\n",
       "    {\"Country\": \"France\", \"Year\": 2015, \"Count\": 77910, \"Accepted\": 20635},\n",
       "    {\"Country\": \"France\", \"Year\": 2016, \"Count\": 87485, \"Accepted\": 28750},\n",
       "    {\"Country\": \"France\", \"Year\": 2017, \"Count\": 110945, \"Accepted\": 32565},\n",
       "    {\"Country\": \"France\", \"Year\": 2018, \"Count\": 115050, \"Accepted\": 32720},\n",
       "    {\"Country\": \"France\", \"Year\": 2019, \"Count\": 113895, \"Accepted\": 28140},\n",
       "    {\"Country\": \"France\", \"Year\": 2020, \"Count\": 86330, \"Accepted\": 19130},\n",
       "    {\"Country\": \"France\", \"Year\": 2021, \"Count\": 137015, \"Accepted\": 33880},\n",
       "    {\"Country\": \"France\", \"Year\": 2022, \"Count\": 129655, \"Accepted\": 35675},\n",
       "    {\"Country\": \"France\", \"Year\": 2023, \"Count\": 132640, \"Accepted\": 41660},\n",
       "    {\"Country\": \"France\", \"Year\": 2024, \"Count\": 138385, \"Accepted\": 52125},\n",
       "    {\"Country\": \"Germany\", \"Year\": 2008, \"Count\": 19245, \"Accepted\": 7870},\n",
       "    {\"Country\": \"Germany\", \"Year\": 2009, \"Count\": 26765, \"Accepted\": 9765},\n",
       "    {\"Country\": \"Germany\", \"Year\": 2010, \"Count\": 45305, \"Accepted\": 10445},\n",
       "    {\"Country\": \"Germany\", \"Year\": 2011, \"Count\": 40280, \"Accepted\": 9675},\n",
       "    {\"Country\": \"Germany\", \"Year\": 2012, \"Count\": 58605, \"Accepted\": 17140},\n",
       "    {\"Country\": \"Germany\", \"Year\": 2013, \"Count\": 76170, \"Accepted\": 20120},\n",
       "    {\"Country\": \"Germany\", \"Year\": 2014, \"Count\": 97280, \"Accepted\": 53820},\n",
       "    {\"Country\": \"Germany\", \"Year\": 2015, \"Count\": 249280, \"Accepted\": 140910},\n",
       "    {\"Country\": \"Germany\", \"Year\": 2016, \"Count\": 631090, \"Accepted\": 433905},\n",
       "    {\"Country\": \"Germany\", \"Year\": 2017, \"Count\": 524200, \"Accepted\": 261625},\n",
       "    {\"Country\": \"Germany\", \"Year\": 2018, \"Count\": 179110, \"Accepted\": 75935},\n",
       "    {\"Country\": \"Germany\", \"Year\": 2019, \"Count\": 154180, \"Accepted\": 70315},\n",
       "    {\"Country\": \"Germany\", \"Year\": 2020, \"Count\": 128585, \"Accepted\": 62475},\n",
       "    {\"Country\": \"Germany\", \"Year\": 2021, \"Count\": 132675, \"Accepted\": 59850},\n",
       "    {\"Country\": \"Germany\", \"Year\": 2022, \"Count\": 197540, \"Accepted\": 128460},\n",
       "    {\"Country\": \"Germany\", \"Year\": 2023, \"Count\": 217430, \"Accepted\": 135275},\n",
       "    {\"Country\": \"Germany\", \"Year\": 2024, \"Count\": 250255, \"Accepted\": 133710}\n",
       "]\n",
       "\n",
       "# Convert to DataFrame\n",
       "df = pd.DataFrame(data)\n",
       "\n",
       "# Separate data for France and Germany\n",
       "france_data = df[df['Country'] == 'France']\n",
       "germany_data = df[df['Country'] == 'Germany']\n",
       "\n",
       "# Plotting\n",
       "plt.figure(figsize=(14, 6))\n",
       "\n",
       "# France\n",
       "plt.subplot(1, 2, 1)\n",
       "plt.plot(france_data['Year'], france_data['Count'], label='Applications', marker='o')\n",
       "plt.plot(france_data['Year'], france_data['Accepted'], label='Accepted', marker='o')\n",
       "plt.title('France Asylum Applications and Acceptances')\n",
       "plt.xlabel('Year')\n",
       "plt.ylabel('Number of People')\n",
       "plt.legend()\n",
       "plt.grid(True)\n",
       "\n",
       "# Germany\n",
       "plt.subplot(1, 2, 2)\n",
       "plt.plot(germany_data['Year'], germany_data['Count'], label='Applications', marker='o')\n",
       "plt.plot(germany_data['Year'], germany_data['Accepted'], label='Accepted', marker='o')\n",
       "plt.title('Germany Asylum Applications and Acceptances')\n",
       "plt.xlabel('Year')\n",
       "plt.ylabel('Number of People')\n",
       "plt.legend()\n",
       "plt.grid(True)\n",
       "\n",
       "plt.tight_layout()\n",
       "plt.show()\n",
       "```\n",
       "\n",
       "### Analysis\n",
       "\n",
       "1. **France:**\n",
       "   - The number of asylum applications in France has generally increased over the years, with a notable rise from 2011 to 2017.\n",
       "   - The number of accepted applications also increased, particularly from 2015 onwards, indicating a more accommodating stance or increased processing capacity.\n",
       "   - There was a dip in both applications and acceptances in 2020, likely due to the COVID-19 pandemic, but numbers have since rebounded.\n",
       "\n",
       "2. **Germany:**\n",
       "   - Germany experienced a significant surge in asylum applications in 2015 and 2016, corresponding to the European migrant crisis.\n",
       "   - The acceptance rate also peaked during these years, reflecting Germany's open-door policy at the time.\n",
       "   - Post-2016, both applications and acceptances decreased significantly, stabilizing at lower levels compared to the peak years.\n",
       "   - Recent years show a gradual increase in applications and acceptances, indicating a potential new trend of rising asylum seekers.\n",
       "\n",
       "These visualizations and analyses provide insights into the trends and fluctuations in asylum applications and acceptances in France and Germany over the years."
      ],
      "text/plain": [
       "<IPython.core.display.Markdown object>"
      ]
     },
     "metadata": {},
     "output_type": "display_data"
    }
   ],
   "source": [
    "display(Markdown(gpt_result))"
   ]
  },
  {
   "cell_type": "markdown",
   "id": "c068efcc-c82a-40d8-8d5b-3939f2417a4e",
   "metadata": {},
   "source": [
    "## Define a Function to Get Assistance from OpenAI o1 Model  \n",
    "\n",
    "The following function, `openai_o_help()`, sends a prompt to OpenAI's **o1 reasoning model** and returns a response.  \n",
    "\n",
    "### Key Differences Between o1 and GPT Models:\n",
    "- **Reasoning Effort**: The o1 model allows users to control reasoning depth using `reasoning_effort` (`low`, `medium`, `high`).  \n",
    "- **No Temperature Parameter**: Unlike GPT models, **o1 does not support `temperature`**.  \n",
    "- **Developer Messages Replace System Messages**:  \n",
    "  - Starting with `o1-2024-12-17`, **developer messages** replace **system messages** to align with chain-of-command behavior.  \n",
    "\n",
    "### Best Practices for Prompting o1  \n",
    "- **Keep prompts simple and direct.**  \n",
    "- **Avoid chain-of-thought prompts.** o1 reasons internally, so step-by-step instructions aren't needed.  \n",
    "- **Use delimiters for clarity.** Use Markdown, XML tags, or section titles.  \n",
    "- **Try zero-shot first.** If needed, add few-shot examples that closely match your goal.  \n",
    "- **Be explicit.** Clearly define success criteria and constraints.  \n",
    "- **Markdown is disabled by default.** To enable, start with `\"Formatting re-enabled\"`.  \n",
    "\n",
    "Source: [OpenAI Reasoning Models Best Practices Guide](https://platform.openai.com/docs/guides/reasoning-best-practices).  \n"
   ]
  },
  {
   "cell_type": "code",
   "execution_count": 11,
   "id": "89f3d84b-b101-4299-b01a-ee4285c7608d",
   "metadata": {},
   "outputs": [],
   "source": [
    "def openai_o_help(prompt):\n",
    "    messages = [ {\"role\": \"user\", \"content\": prompt}]\n",
    "    response = client.chat.completions.create(\n",
    "        model='o1',\n",
    "        reasoning_effort=\"high\", # low, medium or high\n",
    "        messages=messages,\n",
    "\n",
    "    )\n",
    "    token_usage = response.usage\n",
    "    \n",
    "    pprint(f\"Tokens used: {token_usage}\")\n",
    "\n",
    "    return response.choices[0].message.content"
   ]
  },
  {
   "cell_type": "code",
   "execution_count": 12,
   "id": "c5fc9ef3-4510-4faf-995f-31a58134b9a5",
   "metadata": {},
   "outputs": [
    {
     "name": "stdout",
     "output_type": "stream",
     "text": [
      "('Tokens used: CompletionUsage(completion_tokens=3658, prompt_tokens=680, '\n",
      " 'total_tokens=4338, '\n",
      " 'completion_tokens_details=CompletionTokensDetails(accepted_prediction_tokens=0, '\n",
      " 'audio_tokens=0, reasoning_tokens=1280, rejected_prediction_tokens=0), '\n",
      " 'prompt_tokens_details=PromptTokensDetails(audio_tokens=0, cached_tokens=0))')\n"
     ]
    }
   ],
   "source": [
    "o1_result = openai_o_help(prompt=data_prompt)"
   ]
  },
  {
   "cell_type": "code",
   "execution_count": 13,
   "id": "17ab95a7-ee31-49c7-b2ad-f77996be5e44",
   "metadata": {},
   "outputs": [
    {
     "name": "stdout",
     "output_type": "stream",
     "text": [
      "Below is a step-by-step analysis of the provided data for France and Germany, focusing on how they fluctuate in “accepting” asylum applicants. The Python code at the end creates charts that illustrate these trends.\n",
      "\n",
      "────────────────────────────────────────────\n",
      "1. Data Overview\n",
      "────────────────────────────────────────────\n",
      "\n",
      "• The dataset includes yearly asylum application counts (Count) and accepted asylum outcomes (Accepted) from 2008 through 2024 for both France and Germany.  \n",
      "• Key columns:  \n",
      "  – Country: France or Germany  \n",
      "  – Year: 2008–2024  \n",
      "  – Count: Number of asylum applications  \n",
      "  – Accepted: Number of accepted applications  \n",
      "\n",
      "────────────────────────────────────────────\n",
      "2. General Observations\n",
      "────────────────────────────────────────────\n",
      "\n",
      "• France (2008–2024):\n",
      "  – The total number of asylum applications (“Count”) grows steadily over time, from around 31,760 in 2008 to 138,385 in 2024.  \n",
      "  – Accepted applications also increase, though at a slower pace initially. Notably, 2012–2014 sees strong growth in the accepted figures (8,640 → 14,810), and in 2024, accepted cases reach 52,125.  \n",
      "  – France’s acceptance rate (Accepted ÷ Count) stays moderate compared to Germany’s peak in 2015–2017.  \n",
      "\n",
      "• Germany (2008–2024):\n",
      "  – Major spikes appear in 2015–2016, reflecting the surge from 249,280 total applications in 2015 to 631,090 in 2016.  \n",
      "  – Accepted applications also soar in 2015–2016 (from 140,910 to 433,905), indicating Germany’s policy of accepting a large share of asylum seekers during that period.  \n",
      "  – After 2017, the total and accepted numbers decrease from the highest peak but remain above pre-2014 levels.  \n",
      "\n",
      "────────────────────────────────────────────\n",
      "3. Comparative Fluctuation in Acceptances\n",
      "────────────────────────────────────────────\n",
      "\n",
      "Looking specifically at accepted applications:\n",
      "\n",
      "• From 2008 to 2011, Germany’s accepted cases are somewhat close to France’s, but Germany frequently has slightly higher acceptance counts.  \n",
      "• During 2015–2017, Germany experiences a massive surge (e.g., 433,905 accepted in 2016), which far exceeds France’s 28,750 in the same year.  \n",
      "• Post-crisis (2018–2020), Germany’s acceptance trend declines compared to its 2016 peak, while France’s acceptance trend grows more steadily. By 2021 onward, both countries again see an upward move, though Germany’s numbers remain higher overall.  \n",
      "\n",
      "Conclusion:\n",
      "• Germany’s acceptance of asylum applications experienced sharp peaks around 2015–2017. France’s increases were steady rather than spiking, showing a more gradual rise over the years.  \n",
      "• Despite the dramatic fluctuation in Germany’s numbers, both countries exhibit a clear general upward trend in how many asylum seekers they have accepted overall, although Germany’s peaks dwarf France’s during the mid-2010s refugee crisis.  \n",
      "\n",
      "────────────────────────────────────────────\n",
      "4. Sample Python Code to Generate Charts\n",
      "────────────────────────────────────────────\n",
      "\n",
      "Below is an example of Python code that:  \n",
      "• Creates a DataFrame for both countries.  \n",
      "• Plots line charts of the total asylum “Count” and “Accepted” over time.  \n",
      "• Plots a bar chart comparing France and Germany acceptance counts side-by-side for each year.  \n",
      "\n",
      "You can run this code in a Python environment (e.g., a Jupyter notebook). The charts will illustrate how both the total number of asylum applications and the accepted numbers vary year by year for each country.\n",
      "\n",
      "-----------------------------------------------------------------------------\n",
      "COPY & PASTE THE CODE BELOW INTO A PYTHON SCRIPT OR NOTEBOOK\n",
      "-----------------------------------------------------------------------------\n",
      "\n",
      "import pandas as pd\n",
      "import matplotlib.pyplot as plt\n",
      "\n",
      "# -----------------------\n",
      "# 1) Prepare the data\n",
      "# -----------------------\n",
      "data = [\n",
      "    {\"Country\": \"France\",\"Year\": 2008,\"Count\": 31760,\"Accepted\": 5150},\n",
      "    {\"Country\": \"France\",\"Year\": 2009,\"Count\": 35295,\"Accepted\": 5055},\n",
      "    {\"Country\": \"France\",\"Year\": 2010,\"Count\": 37610,\"Accepted\": 5100},\n",
      "    {\"Country\": \"France\",\"Year\": 2011,\"Count\": 42215,\"Accepted\": 4620},\n",
      "    {\"Country\": \"France\",\"Year\": 2012,\"Count\": 59805,\"Accepted\": 8640},\n",
      "    {\"Country\": \"France\",\"Year\": 2013,\"Count\": 61715,\"Accepted\": 10705},\n",
      "    {\"Country\": \"France\",\"Year\": 2014,\"Count\": 68500,\"Accepted\": 14810},\n",
      "    {\"Country\": \"France\",\"Year\": 2015,\"Count\": 77910,\"Accepted\": 20635},\n",
      "    {\"Country\": \"France\",\"Year\": 2016,\"Count\": 87485,\"Accepted\": 28750},\n",
      "    {\"Country\": \"France\",\"Year\": 2017,\"Count\": 110945,\"Accepted\": 32565},\n",
      "    {\"Country\": \"France\",\"Year\": 2018,\"Count\": 115050,\"Accepted\": 32720},\n",
      "    {\"Country\": \"France\",\"Year\": 2019,\"Count\": 113895,\"Accepted\": 28140},\n",
      "    {\"Country\": \"France\",\"Year\": 2020,\"Count\": 86330,\"Accepted\": 19130},\n",
      "    {\"Country\": \"France\",\"Year\": 2021,\"Count\": 137015,\"Accepted\": 33880},\n",
      "    {\"Country\": \"France\",\"Year\": 2022,\"Count\": 129655,\"Accepted\": 35675},\n",
      "    {\"Country\": \"France\",\"Year\": 2023,\"Count\": 132640,\"Accepted\": 41660},\n",
      "    {\"Country\": \"France\",\"Year\": 2024,\"Count\": 138385,\"Accepted\": 52125},\n",
      "    {\"Country\": \"Germany\",\"Year\": 2008,\"Count\": 19245,\"Accepted\": 7870},\n",
      "    {\"Country\": \"Germany\",\"Year\": 2009,\"Count\": 26765,\"Accepted\": 9765},\n",
      "    {\"Country\": \"Germany\",\"Year\": 2010,\"Count\": 45305,\"Accepted\": 10445},\n",
      "    {\"Country\": \"Germany\",\"Year\": 2011,\"Count\": 40280,\"Accepted\": 9675},\n",
      "    {\"Country\": \"Germany\",\"Year\": 2012,\"Count\": 58605,\"Accepted\": 17140},\n",
      "    {\"Country\": \"Germany\",\"Year\": 2013,\"Count\": 76170,\"Accepted\": 20120},\n",
      "    {\"Country\": \"Germany\",\"Year\": 2014,\"Count\": 97280,\"Accepted\": 53820},\n",
      "    {\"Country\": \"Germany\",\"Year\": 2015,\"Count\": 249280,\"Accepted\": 140910},\n",
      "    {\"Country\": \"Germany\",\"Year\": 2016,\"Count\": 631090,\"Accepted\": 433905},\n",
      "    {\"Country\": \"Germany\",\"Year\": 2017,\"Count\": 524200,\"Accepted\": 261625},\n",
      "    {\"Country\": \"Germany\",\"Year\": 2018,\"Count\": 179110,\"Accepted\": 75935},\n",
      "    {\"Country\": \"Germany\",\"Year\": 2019,\"Count\": 154180,\"Accepted\": 70315},\n",
      "    {\"Country\": \"Germany\",\"Year\": 2020,\"Count\": 128585,\"Accepted\": 62475},\n",
      "    {\"Country\": \"Germany\",\"Year\": 2021,\"Count\": 132675,\"Accepted\": 59850},\n",
      "    {\"Country\": \"Germany\",\"Year\": 2022,\"Count\": 197540,\"Accepted\": 128460},\n",
      "    {\"Country\": \"Germany\",\"Year\": 2023,\"Count\": 217430,\"Accepted\": 135275},\n",
      "    {\"Country\": \"Germany\",\"Year\": 2024,\"Count\": 250255,\"Accepted\": 133710}\n",
      "]\n",
      "\n",
      "df = pd.DataFrame(data)\n",
      "\n",
      "# Separate data for each country\n",
      "df_france = df[df['Country'] == 'France'].sort_values('Year')\n",
      "df_germany = df[df['Country'] == 'Germany'].sort_values('Year')\n",
      "\n",
      "# -----------------------\n",
      "# 2) Plot Total Asylum Applications by Year\n",
      "# -----------------------\n",
      "plt.figure(figsize=(9, 5))\n",
      "plt.plot(df_france['Year'], df_france['Count'], marker='o', label='France (Applications)')\n",
      "plt.plot(df_germany['Year'], df_germany['Count'], marker='o', label='Germany (Applications)')\n",
      "plt.xlabel('Year')\n",
      "plt.ylabel('Total Applications')\n",
      "plt.title('Asylum Applications Over Time (France vs Germany)')\n",
      "plt.legend()\n",
      "plt.grid(True)\n",
      "plt.show()\n",
      "\n",
      "# -----------------------\n",
      "# 3) Plot Accepted Asylum Applications by Year\n",
      "# -----------------------\n",
      "plt.figure(figsize=(9, 5))\n",
      "plt.plot(df_france['Year'], df_france['Accepted'], marker='s', label='France (Accepted)')\n",
      "plt.plot(df_germany['Year'], df_germany['Accepted'], marker='s', label='Germany (Accepted)')\n",
      "plt.xlabel('Year')\n",
      "plt.ylabel('Accepted Applications')\n",
      "plt.title('Accepted Asylum Applications Over Time (France vs Germany)')\n",
      "plt.legend()\n",
      "plt.grid(True)\n",
      "plt.show()\n",
      "\n",
      "# -----------------------\n",
      "# 4) Plot Acceptance Rate by Year (Accepted / Count)\n",
      "# -----------------------\n",
      "df_france['AcceptanceRate'] = df_france['Accepted'] / df_france['Count'] * 100\n",
      "df_germany['AcceptanceRate'] = df_germany['Accepted'] / df_germany['Count'] * 100\n",
      "\n",
      "plt.figure(figsize=(9, 5))\n",
      "plt.plot(df_france['Year'], df_france['AcceptanceRate'], marker='^', label='France (Rate %)')\n",
      "plt.plot(df_germany['Year'], df_germany['AcceptanceRate'], marker='^', label='Germany (Rate %)')\n",
      "plt.xlabel('Year')\n",
      "plt.ylabel('Acceptance Rate (%)')\n",
      "plt.title('Acceptance Rate Over Time (France vs Germany)')\n",
      "plt.legend()\n",
      "plt.grid(True)\n",
      "plt.show()\n",
      "\n",
      "# -----------------------\n",
      "# 5) Bar Plot for Accepted Applications (Side-by-side)\n",
      "# -----------------------\n",
      "plt.figure(figsize=(10, 6))\n",
      "\n",
      "x_indices = df_france['Year']\n",
      "width = 0.4\n",
      "\n",
      "plt.bar(x_indices - width/2, df_france['Accepted'], width, label='France (Accepted)')\n",
      "plt.bar(x_indices + width/2, df_germany['Accepted'], width, label='Germany (Accepted)')\n",
      "plt.xlabel('Year')\n",
      "plt.ylabel('Accepted Applications')\n",
      "plt.title('Accepted Applications Comparison (Side-by-side)')\n",
      "plt.xticks(x_indices, rotation=45)\n",
      "plt.legend()\n",
      "plt.tight_layout()\n",
      "plt.show()\n",
      "\n",
      "-----------------------------------------------------------------------------\n",
      "END OF PYTHON CODE\n",
      "-----------------------------------------------------------------------------\n",
      "\n",
      "────────────────────────────────────────────\n",
      "5. Key Takeaways\n",
      "────────────────────────────────────────────\n",
      "\n",
      "• France shows a consistent, steady growth in both applications and acceptances, with a slight dip around 2020 but trending upward again thereafter.  \n",
      "• Germany’s acceptance numbers dramatically spike in 2015–2016, reflecting a policy choice to admit large numbers of asylum seekers. Although those numbers subside somewhat after 2016–2017, they remain above early-2010 levels.\n",
      "\n",
      "Overall, both countries demonstrate increased acceptance of asylum applicants over the years, but Germany’s pattern is more volatile, especially around 2015–2017, while France experiences a more gradual ascent.\n"
     ]
    }
   ],
   "source": [
    "print(o1_result)"
   ]
  },
  {
   "cell_type": "markdown",
   "id": "f392719c-faa6-4438-a5ea-5e8e6d613d90",
   "metadata": {},
   "source": [
    "## References  \n",
    "- **OpenAI Reasoning Models Guide**: [OpenAI](https://platform.openai.com/docs/guides/reasoning)  \n",
    "- **OpenAI Reasoning Models Best Practices Guide**: [OpenAI](https://platform.openai.com/docs/guides/reasoning-best-practices)  \n",
    "- **Colin Jarvis. “Reasoning with O1.” DeepLearning.AI.** Accessed February 14, 2025. [DeepLearning.AI](https://www.deeplearning.ai/short-courses/reasoning-with-o1/)  "
   ]
  },
  {
   "cell_type": "code",
   "execution_count": null,
   "id": "e4b4e8f4-7b3d-4e27-b4b3-2c891314dbb3",
   "metadata": {},
   "outputs": [],
   "source": []
  },
  {
   "cell_type": "markdown",
   "id": "9d20049e-b91d-47b8-9f6f-cc4bdabeb584",
   "metadata": {},
   "source": [
    "Reflection\n",
    "- The model's reasoning did support my analysis. The data set used was one from my capstone project, and the model reached the same conclusion that my team also reached.\n",
    "- This approach could definitely be applied to real-world intelligence workflows, as the model was able to incorporate outside resources (reference to COVID, EU migrate crisis, etc.) and relate it to the analysis.\n",
    "- One ethical concern I would have is the ability to bring in outside sources. I asked a fairly simple question that did not have bias, but I could see how easy it would be for humans to incorporate bias into their prompt, and then attempt to justify the claim through the use of this model's response."
   ]
  },
  {
   "cell_type": "code",
   "execution_count": null,
   "id": "7c653efb-4429-4e4a-8c77-b928897ddb98",
   "metadata": {},
   "outputs": [],
   "source": []
  }
 ],
 "metadata": {
  "kernelspec": {
   "display_name": "conda_python3",
   "language": "python",
   "name": "conda_python3"
  },
  "language_info": {
   "codemirror_mode": {
    "name": "ipython",
    "version": 3
   },
   "file_extension": ".py",
   "mimetype": "text/x-python",
   "name": "python",
   "nbconvert_exporter": "python",
   "pygments_lexer": "ipython3",
   "version": "3.10.16"
  }
 },
 "nbformat": 4,
 "nbformat_minor": 5
}
